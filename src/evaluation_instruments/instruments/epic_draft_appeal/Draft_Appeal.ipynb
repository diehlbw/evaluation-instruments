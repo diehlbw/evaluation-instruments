{
 "cells": [
  {
   "cell_type": "markdown",
   "id": "fd7af0a4",
   "metadata": {},
   "source": [
    "## Configure your Foundation Model"
   ]
  },
  {
   "cell_type": "markdown",
   "id": "2450022d",
   "metadata": {},
   "source": [
    "Setting up your foundation model is beyond the scope of this repository, as there is not a unified method.  \n",
    "We lean on the protocol used by <ins>[LiteLLM chat completions](https://docs.litellm.ai/docs/completion)</ins> as it provides a consistent method for interacting with a wide variety of providers.  It also makes things \"look like\" OpenAI so it is expected to need minimal adaptation for a majority of usecases.\n",
    "\n",
    "Configuration will usually involve specifying how to make authorized calls to your model, so will most frequently be setting secrets in keys and possibly specifying custom urls.\n",
    "\n",
    "The evaluation framework expects parts from both ends of a completion function.  <br/>\n",
    "The <ins>[completion function](https://docs.litellm.ai/docs/completion/input)</ins> should be callable and support input arguments of a model specifier, messages array (list of dicts with user+content), and any provider specific configuration.<br/>\n",
    "Currently two pieces of the <ins>[output json](https://docs.litellm.ai/docs/completion/output)</ins> are expected:  \n",
    "\n",
    "- `response['choices'][0]['message']['content']` should be the text of the completion\n",
    "- `response['usage']` should whichever keys in total_tokens, completion_tokens, and prompt_tokens that you might want to limit for an evaluation."
   ]
  },
  {
   "cell_type": "code",
   "execution_count": 1,
   "id": "fb6539a1",
   "metadata": {},
   "outputs": [],
   "source": [
    "# Generally you'll need to set up some connections and authorization such tokens or keys.\n",
    "# In this case all of that is hardcoded in the module\n",
    "from example_provider import completion"
   ]
  },
  {
   "cell_type": "markdown",
   "id": "89025130",
   "metadata": {},
   "source": [
    "## Get data"
   ]
  },
  {
   "cell_type": "markdown",
   "id": "6718deaa",
   "metadata": {},
   "source": [
    "Data is messy.  It's rare that there will not be some finer alignment when using a model.  \n",
    "For the coding-savvy, much of this can be offloaded into a data_prep function.\n",
    "\n",
    "Common patterns of managing data for these analyses include using pandas dataframes for in memory representation, or serialized to file for more focused access.\n",
    "This example combines the two to give a starting point that is partially applicable for either. Here our in-memory dataframe is a list of file descriptors, and the prompt creation includes the logic of reading these files before resolving the evaluation message array."
   ]
  },
  {
   "cell_type": "code",
   "execution_count": 2,
   "id": "edaee0f2",
   "metadata": {},
   "outputs": [],
   "source": [
    "from pathlib import Path\n",
    "import pandas as pd\n",
    "data_path = str(Path('data').resolve()) + \"/\"\n",
    "\n",
    "input_df = pd.DataFrame({\"guid\":['58e6e5e6-8b44-4fae-aec3-d85d287fdcd6']},\n",
    "                        index=['000'])\n",
    "input_df.index.name = \"myIx\"\n",
    "input_df.guid = data_path + input_df.guid"
   ]
  },
  {
   "cell_type": "markdown",
   "id": "2cfe4f22",
   "metadata": {},
   "source": [
    "## Setup the instrument"
   ]
  },
  {
   "cell_type": "markdown",
   "id": "ba0aedc5",
   "metadata": {},
   "source": [
    "Selection of a pre-formed prompt can be done via module imports. Namely, the data_prep_fn mentioned alongside data as these two parts must be compatible.\n",
    "\n",
    "Regardless of the data details, the evaluation loop uses pandas.DataFrame.itertuples. <br/>\n",
    "The data_prep function should take this namedtuple of a single row and produce a single messages array compatible with the second positional argument of the completion function (loaded above).\n",
    "\n",
    "Then we initialize our evaluator with, at minimum, the completion and preparation function.  <br/>\n",
    "This can also set some capacity limit on token usage.  While a lot of these options are expected to be handled by the completion provider, the Evaluation class can support aborting the loop after a number of cumulative tokens are exceeded.  This requires that completion return usage total_tokens.\n"
   ]
  },
  {
   "cell_type": "code",
   "execution_count": 3,
   "id": "604d7a61",
   "metadata": {},
   "outputs": [
    {
     "name": "stderr",
     "output_type": "stream",
     "text": [
      "DEBUG:evaluation:Set up with log_enabled=True and capacity 10000\n"
     ]
    }
   ],
   "source": [
    "from draft_appeal_prompt import to_prompt\n",
    "import evaluation_instruments as ev\n",
    "\n",
    "ev.set_logging(10) # DEBUG\n",
    "evaluator = ev.Evaluation(\n",
    "    completion_fn = completion,\n",
    "    prep_fn= to_prompt,\n",
    "    log_enabled = True,\n",
    "    max_tokens = 10_000\n",
    ")"
   ]
  },
  {
   "cell_type": "markdown",
   "id": "07540a6d",
   "metadata": {},
   "source": [
    "# Evaluate"
   ]
  },
  {
   "cell_type": "markdown",
   "id": "56094a40",
   "metadata": {},
   "source": [
    "Now, all that is left is to run the dataset through it.  \n",
    "The run_dataset requires a dataframe where one row at a time is evaluated in a very similar manner as a HuggingFace Pipeline, chaining three steps:\n",
    "- prompt = prep_fn(namedtuple[dataframe itertuples])\n",
    "- raw_output = completion_fn(model, prompt)\n",
    "- response, usage = post_process_fn(raw_output)\n",
    "\n",
    "The default post_process_fn will extract a single completion and assumes a json-style completion.  The function will further try to parse such a json.\n",
    "\n",
    "The ultimate output of run_dataset is two-fold:\n",
    "- A dictionary keyed off of the index from the original dataframe to the value from parsing the completion-json (or whatever the first output of post_process_fn returns)\n",
    "- A total accumulated TokenUsage\n",
    "\n",
    "If log_enabled is set to True, the run will output all the individual lines of raw_output under evaluation/logs/raw_content_<TIMESTAMP>.jsonl "
   ]
  },
  {
   "cell_type": "code",
   "execution_count": 4,
   "id": "4db685fe",
   "metadata": {},
   "outputs": [
    {
     "name": "stderr",
     "output_type": "stream",
     "text": [
      "DEBUG:evaluation:000-Completed evaluation\n",
      "INFO:evaluation:Dumped raw content to None\n"
     ]
    }
   ],
   "source": [
    "output = evaluator.run_dataset(input_df, model='gpt-4o-mini')"
   ]
  },
  {
   "cell_type": "markdown",
   "id": "28fe2357",
   "metadata": {},
   "source": [
    "# Inspect"
   ]
  },
  {
   "cell_type": "code",
   "execution_count": 5,
   "id": "7b248b1e-9ef8-4add-b057-d06de4f07f39",
   "metadata": {},
   "outputs": [
    {
     "data": {
      "text/html": [
       "<div>\n",
       "<style scoped>\n",
       "    .dataframe tbody tr th:only-of-type {\n",
       "        vertical-align: middle;\n",
       "    }\n",
       "\n",
       "    .dataframe tbody tr th {\n",
       "        vertical-align: top;\n",
       "    }\n",
       "\n",
       "    .dataframe thead th {\n",
       "        text-align: right;\n",
       "    }\n",
       "</style>\n",
       "<table border=\"1\" class=\"dataframe\">\n",
       "  <thead>\n",
       "    <tr style=\"text-align: right;\">\n",
       "      <th></th>\n",
       "      <th>TextQuality</th>\n",
       "      <th>MedicalTerminology</th>\n",
       "      <th>Grammar</th>\n",
       "      <th>TextFormat</th>\n",
       "      <th>Tone</th>\n",
       "      <th>References</th>\n",
       "      <th>RelevantReferences</th>\n",
       "      <th>MedicalNecessity</th>\n",
       "      <th>FalseReasoning</th>\n",
       "      <th>Opposition</th>\n",
       "      <th>FactualAccuracy</th>\n",
       "    </tr>\n",
       "  </thead>\n",
       "  <tbody>\n",
       "    <tr>\n",
       "      <th>000</th>\n",
       "      <td>4</td>\n",
       "      <td>5</td>\n",
       "      <td>5</td>\n",
       "      <td>4</td>\n",
       "      <td>5</td>\n",
       "      <td>5</td>\n",
       "      <td>5</td>\n",
       "      <td>5</td>\n",
       "      <td>5</td>\n",
       "      <td>5</td>\n",
       "      <td>5</td>\n",
       "    </tr>\n",
       "  </tbody>\n",
       "</table>\n",
       "</div>"
      ],
      "text/plain": [
       "     TextQuality  MedicalTerminology  Grammar  TextFormat  Tone  References  \\\n",
       "000            4                   5        5           4     5           5   \n",
       "\n",
       "     RelevantReferences  MedicalNecessity  FalseReasoning  Opposition  \\\n",
       "000                   5                 5               5           5   \n",
       "\n",
       "     FactualAccuracy  \n",
       "000                5  "
      ]
     },
     "execution_count": 5,
     "metadata": {},
     "output_type": "execute_result"
    }
   ],
   "source": [
    "grades = ev.frame_from_evals(output[0])\n",
    "grades.xs('score', axis=1, level=1)"
   ]
  },
  {
   "cell_type": "code",
   "execution_count": null,
   "id": "ec27374a",
   "metadata": {},
   "outputs": [
    {
     "ename": "KeyError",
     "evalue": "\"['evidence'] not in index\"",
     "output_type": "error",
     "traceback": [
      "\u001b[31m---------------------------------------------------------------------------\u001b[39m",
      "\u001b[31mKeyError\u001b[39m                                  Traceback (most recent call last)",
      "\u001b[36mCell\u001b[39m\u001b[36m \u001b[39m\u001b[32mIn[6]\u001b[39m\u001b[32m, line 2\u001b[39m\n\u001b[32m      1\u001b[39m \u001b[38;5;28;01mwith\u001b[39;00m pd.option_context(\u001b[33m'\u001b[39m\u001b[33mdisplay.max_colwidth\u001b[39m\u001b[33m'\u001b[39m, \u001b[38;5;28;01mNone\u001b[39;00m):\n\u001b[32m----> \u001b[39m\u001b[32m2\u001b[39m     display(\u001b[43mgrades\u001b[49m\u001b[43m[\u001b[49m\u001b[33;43m'\u001b[39;49m\u001b[33;43mMedicalNecessity\u001b[39;49m\u001b[33;43m'\u001b[39;49m\u001b[43m]\u001b[49m\u001b[43m[\u001b[49m\u001b[43m[\u001b[49m\u001b[33;43m'\u001b[39;49m\u001b[33;43mscore\u001b[39;49m\u001b[33;43m'\u001b[39;49m\u001b[43m,\u001b[49m\u001b[33;43m'\u001b[39;49m\u001b[33;43mevidence\u001b[39;49m\u001b[33;43m'\u001b[39;49m\u001b[43m]\u001b[49m\u001b[43m]\u001b[49m)\n",
      "\u001b[36mFile \u001b[39m\u001b[32m~/workspace/local/venv/lib/python3.12/site-packages/pandas/core/frame.py:4108\u001b[39m, in \u001b[36mDataFrame.__getitem__\u001b[39m\u001b[34m(self, key)\u001b[39m\n\u001b[32m   4106\u001b[39m     \u001b[38;5;28;01mif\u001b[39;00m is_iterator(key):\n\u001b[32m   4107\u001b[39m         key = \u001b[38;5;28mlist\u001b[39m(key)\n\u001b[32m-> \u001b[39m\u001b[32m4108\u001b[39m     indexer = \u001b[38;5;28;43mself\u001b[39;49m\u001b[43m.\u001b[49m\u001b[43mcolumns\u001b[49m\u001b[43m.\u001b[49m\u001b[43m_get_indexer_strict\u001b[49m\u001b[43m(\u001b[49m\u001b[43mkey\u001b[49m\u001b[43m,\u001b[49m\u001b[43m \u001b[49m\u001b[33;43m\"\u001b[39;49m\u001b[33;43mcolumns\u001b[39;49m\u001b[33;43m\"\u001b[39;49m\u001b[43m)\u001b[49m[\u001b[32m1\u001b[39m]\n\u001b[32m   4110\u001b[39m \u001b[38;5;66;03m# take() does not accept boolean indexers\u001b[39;00m\n\u001b[32m   4111\u001b[39m \u001b[38;5;28;01mif\u001b[39;00m \u001b[38;5;28mgetattr\u001b[39m(indexer, \u001b[33m\"\u001b[39m\u001b[33mdtype\u001b[39m\u001b[33m\"\u001b[39m, \u001b[38;5;28;01mNone\u001b[39;00m) == \u001b[38;5;28mbool\u001b[39m:\n",
      "\u001b[36mFile \u001b[39m\u001b[32m~/workspace/local/venv/lib/python3.12/site-packages/pandas/core/indexes/base.py:6200\u001b[39m, in \u001b[36mIndex._get_indexer_strict\u001b[39m\u001b[34m(self, key, axis_name)\u001b[39m\n\u001b[32m   6197\u001b[39m \u001b[38;5;28;01melse\u001b[39;00m:\n\u001b[32m   6198\u001b[39m     keyarr, indexer, new_indexer = \u001b[38;5;28mself\u001b[39m._reindex_non_unique(keyarr)\n\u001b[32m-> \u001b[39m\u001b[32m6200\u001b[39m \u001b[38;5;28;43mself\u001b[39;49m\u001b[43m.\u001b[49m\u001b[43m_raise_if_missing\u001b[49m\u001b[43m(\u001b[49m\u001b[43mkeyarr\u001b[49m\u001b[43m,\u001b[49m\u001b[43m \u001b[49m\u001b[43mindexer\u001b[49m\u001b[43m,\u001b[49m\u001b[43m \u001b[49m\u001b[43maxis_name\u001b[49m\u001b[43m)\u001b[49m\n\u001b[32m   6202\u001b[39m keyarr = \u001b[38;5;28mself\u001b[39m.take(indexer)\n\u001b[32m   6203\u001b[39m \u001b[38;5;28;01mif\u001b[39;00m \u001b[38;5;28misinstance\u001b[39m(key, Index):\n\u001b[32m   6204\u001b[39m     \u001b[38;5;66;03m# GH 42790 - Preserve name from an Index\u001b[39;00m\n",
      "\u001b[36mFile \u001b[39m\u001b[32m~/workspace/local/venv/lib/python3.12/site-packages/pandas/core/indexes/base.py:6252\u001b[39m, in \u001b[36mIndex._raise_if_missing\u001b[39m\u001b[34m(self, key, indexer, axis_name)\u001b[39m\n\u001b[32m   6249\u001b[39m     \u001b[38;5;28;01mraise\u001b[39;00m \u001b[38;5;167;01mKeyError\u001b[39;00m(\u001b[33mf\u001b[39m\u001b[33m\"\u001b[39m\u001b[33mNone of [\u001b[39m\u001b[38;5;132;01m{\u001b[39;00mkey\u001b[38;5;132;01m}\u001b[39;00m\u001b[33m] are in the [\u001b[39m\u001b[38;5;132;01m{\u001b[39;00maxis_name\u001b[38;5;132;01m}\u001b[39;00m\u001b[33m]\u001b[39m\u001b[33m\"\u001b[39m)\n\u001b[32m   6251\u001b[39m not_found = \u001b[38;5;28mlist\u001b[39m(ensure_index(key)[missing_mask.nonzero()[\u001b[32m0\u001b[39m]].unique())\n\u001b[32m-> \u001b[39m\u001b[32m6252\u001b[39m \u001b[38;5;28;01mraise\u001b[39;00m \u001b[38;5;167;01mKeyError\u001b[39;00m(\u001b[33mf\u001b[39m\u001b[33m\"\u001b[39m\u001b[38;5;132;01m{\u001b[39;00mnot_found\u001b[38;5;132;01m}\u001b[39;00m\u001b[33m not in index\u001b[39m\u001b[33m\"\u001b[39m)\n",
      "\u001b[31mKeyError\u001b[39m: \"['evidence'] not in index\""
     ]
    }
   ],
   "source": [
    "with pd.option_context('display.max_colwidth', None):\n",
    "    display(grades['MedicalNecessity'][['score','explanation']])"
   ]
  }
 ],
 "metadata": {
  "kernelspec": {
   "display_name": "Python 3 (ipykernel)",
   "language": "python",
   "name": "python3"
  },
  "language_info": {
   "codemirror_mode": {
    "name": "ipython",
    "version": 3
   },
   "file_extension": ".py",
   "mimetype": "text/x-python",
   "name": "python",
   "nbconvert_exporter": "python",
   "pygments_lexer": "ipython3",
   "version": "3.12.10"
  }
 },
 "nbformat": 4,
 "nbformat_minor": 5
}
